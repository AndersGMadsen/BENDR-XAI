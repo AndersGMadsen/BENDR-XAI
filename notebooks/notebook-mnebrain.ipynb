{
 "cells": [
  {
   "cell_type": "code",
   "execution_count": 1,
   "metadata": {},
   "outputs": [],
   "source": [
    "import mne\n",
    "import numpy as np\n",
    "import matplotlib.pyplot as plt\n",
    "#mne.viz.set_3d_backend(\"notebook\")"
   ]
  },
  {
   "cell_type": "code",
   "execution_count": 2,
   "metadata": {},
   "outputs": [
    {
     "name": "stdout",
     "output_type": "stream",
     "text": [
      "0 files missing from root.txt in /home/williamtheodor/anaconda3/lib/python3.8/site-packages/nibabel/freesurfer/subjects\n",
      "0 files missing from bem.txt in /home/williamtheodor/anaconda3/lib/python3.8/site-packages/nibabel/freesurfer/subjects/fsaverage\n"
     ]
    }
   ],
   "source": [
    "# Authors: Alexandre Gramfort <alexandre.gramfort@inria.fr>\n",
    "#          Joan Massich <mailsik@gmail.com>\n",
    "#          Eric Larson <larson.eric.d@gmail.com>\n",
    "#\n",
    "# License: BSD-3-Clause\n",
    "\n",
    "import os.path as op\n",
    "import numpy as np\n",
    "\n",
    "import mne\n",
    "from mne.datasets import eegbci\n",
    "from mne.datasets import fetch_fsaverage\n",
    "\n",
    "# Download fsaverage files\n",
    "fs_dir = fetch_fsaverage(verbose=True)\n",
    "subjects_dir = op.dirname(fs_dir)\n",
    "\n",
    "# The files live in:\n",
    "subject = 'fsaverage'\n",
    "trans = 'fsaverage'  # MNE has a built-in fsaverage transformation\n",
    "src = op.join(fs_dir, 'bem', 'fsaverage-ico-5-src.fif')\n",
    "bem = op.join(fs_dir, 'bem', 'fsaverage-5120-5120-5120-bem-sol.fif')"
   ]
  },
  {
   "cell_type": "code",
   "execution_count": 3,
   "metadata": {},
   "outputs": [],
   "source": [
    "FILE = 'S001R10.edf'\n",
    "\n",
    "raw = mne.io.read_raw_edf(FILE, verbose=False, preload=True)\n",
    "mne.datasets.eegbci.standardize(raw)  # set channel names\n",
    "montage=mne.channels.make_standard_montage('standard_1020')\n",
    "raw = raw.set_montage(montage); # set montage\n",
    "raw = raw.set_eeg_reference(projection=True, verbose = False)"
   ]
  },
  {
   "cell_type": "code",
   "execution_count": 4,
   "metadata": {},
   "outputs": [],
   "source": [
    "fwd = mne.make_forward_solution(raw.info, trans=trans, src=src, bem=bem,  meg=False, eeg=True, verbose=False)\n",
    "#fwd = mne.convert_forward_solution(fwd, force_fixed=True, verbose=False)\n",
    "\n",
    "#fwd['src'][0]"
   ]
  },
  {
   "cell_type": "code",
   "execution_count": 5,
   "metadata": {},
   "outputs": [],
   "source": [
    "def get_vertex_locations(fwd):\n",
    "    fwd = fwd.copy()\n",
    "\n",
    "\n",
    "    vertex_locations = []\n",
    "    for s, _ in zip(fwd[\"src\"], (\"lh\", \"rh\")):\n",
    "        vertex_locations.append(s[\"rr\"])\n",
    "    \n",
    "    n_vertices_lh = fwd['src'][0]['np']\n",
    "    n_vertices_rh = fwd['src'][0]['np']\n",
    "    vertex_locations = np.array(vertex_locations).reshape(n_vertices_lh+n_vertices_rh, 3)\n",
    "\n",
    "    return vertex_locations\n",
    "\n",
    "def get_triangles(fwd):\n",
    "    fwd = fwd.copy()\n",
    "\n",
    "    #triangles_lh = fwd['src'][0]['tris']\n",
    "    #triangles_rh = fwd['src'][1]['tris'] + np.max(triangles_lh)\n",
    "\n",
    "    #triangles = np.vstack((triangles_lh, triangles_rh))\n",
    "\n",
    "    return fwd['src'][0]['tris'], fwd['src'][1]['tris']\n",
    "\n",
    "def get_source_locations(fwd):\n",
    "    return fwd['source_rr']\n",
    "\n",
    "\n",
    "vertex_locations = get_vertex_locations(fwd)\n",
    "source_locations = get_source_locations(fwd)\n",
    "triangles = get_triangles(fwd)"
   ]
  },
  {
   "cell_type": "code",
   "execution_count": 6,
   "metadata": {},
   "outputs": [
    {
     "data": {
      "text/plain": [
       "(64, 61452)"
      ]
     },
     "execution_count": 6,
     "metadata": {},
     "output_type": "execute_result"
    }
   ],
   "source": [
    "L = fwd['sol']['data']\n",
    "L.shape"
   ]
  },
  {
   "cell_type": "code",
   "execution_count": 7,
   "metadata": {},
   "outputs": [
    {
     "data": {
      "text/plain": [
       "dict_keys(['sol', 'source_ori', 'nsource', 'coord_frame', 'sol_grad', 'nchan', '_orig_source_ori', '_orig_sol', '_orig_sol_grad', 'info', 'src', 'source_nn', 'source_rr', 'surf_ori', 'mri_head_t'])"
      ]
     },
     "execution_count": 7,
     "metadata": {},
     "output_type": "execute_result"
    }
   ],
   "source": [
    "fwd.keys()"
   ]
  },
  {
   "cell_type": "code",
   "execution_count": 8,
   "metadata": {},
   "outputs": [
    {
     "data": {
      "text/html": [
       "<table class=\"table table-hover table-striped table-sm table-responsive small\">\n",
       "    <tr>\n",
       "        <th>Measurement date</th>\n",
       "        \n",
       "        <td>August 12, 2009  16:15:00 GMT</td>\n",
       "        \n",
       "    </tr>\n",
       "    <tr>\n",
       "        <th>Experimenter</th>\n",
       "        \n",
       "        <td>Unknown</td>\n",
       "        \n",
       "    </tr>\n",
       "        <th>Participant</th>\n",
       "        \n",
       "        <td>Unknown</td>\n",
       "        \n",
       "    </tr>\n",
       "    <tr>\n",
       "        <th>Digitized points</th>\n",
       "        \n",
       "        <td>67 points</td>\n",
       "        \n",
       "    </tr>\n",
       "    <tr>\n",
       "        <th>Good channels</th>\n",
       "        <td>64 EEG</td>\n",
       "    </tr>\n",
       "    <tr>\n",
       "        <th>Bad channels</th>\n",
       "        <td>None</td>\n",
       "    </tr>\n",
       "    <tr>\n",
       "        <th>EOG channels</th>\n",
       "        <td>Not available</td>\n",
       "    </tr>\n",
       "    <tr>\n",
       "        <th>ECG channels</th>\n",
       "        <td>Not available</td>\n",
       "    \n",
       "    <tr>\n",
       "        <th>Sampling frequency</th>\n",
       "        <td>160.00 Hz</td>\n",
       "    </tr>\n",
       "    \n",
       "    \n",
       "    <tr>\n",
       "        <th>Highpass</th>\n",
       "        <td>0.00 Hz</td>\n",
       "    </tr>\n",
       "    \n",
       "    \n",
       "    <tr>\n",
       "        <th>Lowpass</th>\n",
       "        <td>80.00 Hz</td>\n",
       "    </tr>\n",
       "    \n",
       "    \n",
       "    <tr>\n",
       "        <th>Projections</th>\n",
       "        <td>Average EEG reference : off</td>\n",
       "    </tr>\n",
       "    \n",
       "</table>"
      ],
      "text/plain": [
       "<Info | 9 non-empty values\n",
       " bads: []\n",
       " ch_names: FC5, FC3, FC1, FCz, FC2, FC4, FC6, C5, C3, C1, Cz, C2, C4, C6, ...\n",
       " chs: 64 EEG\n",
       " custom_ref_applied: False\n",
       " dig: 67 items (3 Cardinal, 64 EEG)\n",
       " highpass: 0.0 Hz\n",
       " lowpass: 80.0 Hz\n",
       " meas_date: 2009-08-12 16:15:00 UTC\n",
       " nchan: 64\n",
       " projs: Average EEG reference: off\n",
       " sfreq: 160.0 Hz\n",
       ">"
      ]
     },
     "execution_count": 8,
     "metadata": {},
     "output_type": "execute_result"
    }
   ],
   "source": [
    "raw.info"
   ]
  },
  {
   "cell_type": "code",
   "execution_count": 9,
   "metadata": {},
   "outputs": [
    {
     "data": {
      "text/plain": [
       "(64, 160)"
      ]
     },
     "execution_count": 9,
     "metadata": {},
     "output_type": "execute_result"
    }
   ],
   "source": [
    "F = raw.get_data()[:, :160] # first second of data\n",
    "F.shape"
   ]
  },
  {
   "cell_type": "code",
   "execution_count": 10,
   "metadata": {},
   "outputs": [
    {
     "data": {
      "text/plain": [
       "(61452, 160)"
      ]
     },
     "execution_count": 10,
     "metadata": {},
     "output_type": "execute_result"
    }
   ],
   "source": [
    "C = L.T@F\n",
    "C.shape"
   ]
  },
  {
   "cell_type": "code",
   "execution_count": 11,
   "metadata": {},
   "outputs": [
    {
     "data": {
      "text/plain": [
       "array([ 0.07261988, -0.0601709 , -0.10173054, ...,  0.05771949,\n",
       "       -0.08183777, -0.13842957])"
      ]
     },
     "execution_count": 11,
     "metadata": {},
     "output_type": "execute_result"
    }
   ],
   "source": [
    "C.T[0]"
   ]
  },
  {
   "cell_type": "code",
   "execution_count": 12,
   "metadata": {},
   "outputs": [
    {
     "data": {
      "text/plain": [
       "dict_keys(['sol', 'source_ori', 'nsource', 'coord_frame', 'sol_grad', 'nchan', '_orig_source_ori', '_orig_sol', '_orig_sol_grad', 'info', 'src', 'source_nn', 'source_rr', 'surf_ori', 'mri_head_t'])"
      ]
     },
     "execution_count": 12,
     "metadata": {},
     "output_type": "execute_result"
    }
   ],
   "source": [
    "fwd.keys()"
   ]
  },
  {
   "cell_type": "code",
   "execution_count": null,
   "metadata": {},
   "outputs": [],
   "source": []
  },
  {
   "cell_type": "code",
   "execution_count": 13,
   "metadata": {},
   "outputs": [
    {
     "data": {
      "text/plain": [
       "(163842, 3)"
      ]
     },
     "execution_count": 13,
     "metadata": {},
     "output_type": "execute_result"
    }
   ],
   "source": [
    "fwd['src'][0]['rr'].shape"
   ]
  },
  {
   "cell_type": "code",
   "execution_count": 14,
   "metadata": {},
   "outputs": [
    {
     "data": {
      "text/plain": [
       "array([[     0,  40964,  40962],\n",
       "       [     0,  40962,  40965],\n",
       "       [     0,  40965,  40967],\n",
       "       ...,\n",
       "       [163841, 160926,  39990],\n",
       "       [163113, 160926, 163841],\n",
       "       [163113,     11, 160926]], dtype=int32)"
      ]
     },
     "execution_count": 14,
     "metadata": {},
     "output_type": "execute_result"
    }
   ],
   "source": [
    "fwd['src'][0]['tris']"
   ]
  },
  {
   "cell_type": "code",
   "execution_count": 15,
   "metadata": {},
   "outputs": [],
   "source": [
    "from tqdm import tqdm\n",
    "\n",
    "def get_mesh_neightbour_dict(mesh_data):\n",
    "    neightbours_dict = {}\n",
    "    for i in tqdm(range(20000)):\n",
    "        neightbours = mesh_data[np.any(mesh_data == i, axis=1)].flatten()\n",
    "        neightbours = np.unique(neightbours[neightbours != i])\n",
    "        neightbours_dict[i] = neightbours\n",
    "    return neightbours_dict\n",
    "\n",
    "#get_mesh_neightbour_dict(fwd['src'][0]['tris'])"
   ]
  },
  {
   "cell_type": "code",
   "execution_count": 16,
   "metadata": {},
   "outputs": [
    {
     "name": "stdout",
     "output_type": "stream",
     "text": [
      "Reading labels from parcellation...\n",
      "   read 35 labels from /home/williamtheodor/anaconda3/lib/python3.8/site-packages/nibabel/freesurfer/subjects/fsaverage/label/lh.aparc.annot\n",
      "   read 34 labels from /home/williamtheodor/anaconda3/lib/python3.8/site-packages/nibabel/freesurfer/subjects/fsaverage/label/rh.aparc.annot\n"
     ]
    }
   ],
   "source": [
    "mne.datasets.fetch_aparc_sub_parcellation(subjects_dir=subjects_dir, verbose=True)\n",
    "\n",
    "#labels = mne.read_labels_from_annot('fsaverage', 'HCPMMP1', 'lh', subjects_dir=subjects_dir)\n",
    "labels = mne.read_labels_from_annot(subject)"
   ]
  },
  {
   "cell_type": "code",
   "execution_count": 17,
   "metadata": {},
   "outputs": [
    {
     "name": "stdout",
     "output_type": "stream",
     "text": [
      "(327684, 3)\n",
      "(20484, 3)\n"
     ]
    }
   ],
   "source": [
    "print(vertex_locations.shape)\n",
    "print(source_locations.shape)"
   ]
  },
  {
   "cell_type": "code",
   "execution_count": 18,
   "metadata": {},
   "outputs": [
    {
     "data": {
      "image/png": "[encoded data removed]",
      "text/plain": [
       "<Figure size 1800x600 with 1 Axes>"
      ]
     },
     "metadata": {},
     "output_type": "display_data"
    }
   ],
   "source": [
    "fig = plt.figure(figsize=(18,6))\n",
    "\n",
    "#views = [(90,90), (0,0), (0,90)]\n",
    "views = [(90,90)]\n",
    "\n",
    "n_plots = len(views)\n",
    "\n",
    "#for plot_idx in range(n_plots):\n",
    "\n",
    "ax = fig.add_subplot(1, n_plots, 1, projection='3d')\n",
    "\n",
    "ax.plot_trisurf(*fwd['src'][0]['rr'].T, triangles=fwd['src'][0]['tris'], linewidth=0.1, shade=False, cmap='viridis', antialiased=True, edgecolor=(0,0,0,0.5))\n",
    "ax.plot_trisurf(*fwd['src'][1]['rr'].T, triangles=fwd['src'][1]['tris'], linewidth=0.1, shade=False, cmap='viridis', antialiased=True, edgecolor=(0,0,0,0.5))\n",
    "\n",
    "ax.set_xticklabels([])\n",
    "ax.set_yticklabels([])\n",
    "ax.set_zticklabels([])\n",
    "\n",
    "ax.set_xlim(-0.1, 0.1)\n",
    "ax.set_ylim(-0.1, 0.1)\n",
    "ax.set_zlim(-0.05, 0.15)\n",
    "ax.set_box_aspect([1,1,1])\n",
    "\n",
    "ax.set_xlabel('x')\n",
    "ax.set_ylabel('y')\n",
    "ax.view_init(90, 90)\n",
    "\n",
    "#ax.dist = 8\n",
    "ax.xaxis.labelpad = -2\n",
    "ax.yaxis.labelpad = -5\n"
   ]
  },
  {
   "cell_type": "code",
   "execution_count": null,
   "metadata": {},
   "outputs": [],
   "source": [
    "np.max(fwd['src'][0]['tris'] + 163841)"
   ]
  },
  {
   "cell_type": "code",
   "execution_count": null,
   "metadata": {},
   "outputs": [],
   "source": [
    "np.max(fwd['src'][0]['tris'])"
   ]
  },
  {
   "cell_type": "code",
   "execution_count": null,
   "metadata": {},
   "outputs": [],
   "source": [
    "vertex_locations.shape"
   ]
  },
  {
   "cell_type": "code",
   "execution_count": null,
   "metadata": {},
   "outputs": [],
   "source": [
    "C.T.shape"
   ]
  },
  {
   "cell_type": "code",
   "execution_count": null,
   "metadata": {},
   "outputs": [],
   "source": []
  },
  {
   "cell_type": "code",
   "execution_count": 20,
   "metadata": {},
   "outputs": [
    {
     "name": "stdout",
     "output_type": "stream",
     "text": [
      "Converting forward solution to surface orientation\n",
      "    No patch info available. The standard source space normals will be employed in the rotation to the local surface coordinates....\n",
      "    Converting to surface-based source orientations...\n",
      "    [done]\n",
      "Computing inverse operator with 64 channels.\n",
      "    64 out of 64 channels remain after picking\n",
      "Selected 64 channels\n",
      "Creating the depth weighting matrix...\n",
      "    64 EEG channels\n",
      "    limit = 20485/20484 = 2.174517\n",
      "    scale = 125525 exp = 0.8\n",
      "Applying loose dipole orientations to surface source spaces: 0.2\n",
      "Whitening the forward solution.\n",
      "    Created an SSP operator (subspace dimension = 1)\n",
      "Computing rank from covariance with rank=None\n",
      "    Using tolerance 3.2e-12 (2.2e-16 eps * 64 dim * 2.3e+02  max singular value)\n",
      "    Estimated rank (eeg): 63\n",
      "    EEG: rank 63 computed from 64 data channels with 1 projector\n",
      "    Setting small EEG eigenvalues to zero (without PCA)\n",
      "Creating the source covariance matrix\n",
      "Adjusting source covariance matrix.\n",
      "Computing SVD of whitened and weighted lead field matrix.\n",
      "    largest singular value = 3.90282\n",
      "    scaling factor to adjust the trace = 1.09055e+19 (nchan = 64 nzero = 1)\n",
      "Preparing the inverse operator for use...\n",
      "    Scaled noise and source covariance from nave = 1 to nave = 1\n",
      "    Created the regularized inverter\n",
      "    Created an SSP operator (subspace dimension = 1)\n",
      "    Created the whitener using a noise covariance matrix with rank 63 (1 small eigenvalues omitted)\n",
      "    Computing noise-normalization factors (sLORETA)...\n",
      "[done]\n",
      "Applying inverse to raw...\n",
      "    Picked 64 channels from the data\n",
      "    Computing inverse...\n",
      "    Eigenleads need to be weighted ...\n",
      "    combining the current components...\n",
      "[done]\n"
     ]
    }
   ],
   "source": [
    "tmin = 0\n",
    "tmax = 10\n",
    "imin = int(0 * raw.info['sfreq'])\n",
    "imax = int(10 * raw.info['sfreq'])\n",
    "\n",
    "cov = mne.compute_raw_covariance(raw, verbose=False, tmin=tmin, tmax=tmax)\n",
    "\n",
    "\n",
    "snr = 1.0  # use smaller SNR for raw data\n",
    "lambda2 = 1.0 / snr ** 2\n",
    "method = \"sLORETA\"\n",
    "\n",
    "\n",
    "inv = mne.minimum_norm.make_inverse_operator(\n",
    "    raw.info, fwd, cov, verbose=True)\n",
    "\n",
    "stc = mne.minimum_norm.apply_inverse_raw(raw, inv, lambda2, method=method, start=imin, stop=imax)"
   ]
  },
  {
   "cell_type": "code",
   "execution_count": 21,
   "metadata": {},
   "outputs": [
    {
     "data": {
      "text/plain": [
       "(20484, 1600)"
      ]
     },
     "execution_count": 21,
     "metadata": {},
     "output_type": "execute_result"
    }
   ],
   "source": [
    "d = stc.data\n",
    "d.shape"
   ]
  },
  {
   "cell_type": "code",
   "execution_count": 143,
   "metadata": {},
   "outputs": [],
   "source": [
    "def plot_sources(source_locations, source_estimates, time_idx=0, views = [(90,90), (0,0)], save_fig=False):\n",
    "    #views = [(90,90), (0,0), (0,90), (0, 180)]\n",
    "    n_plots = len(views)\n",
    "\n",
    "    fig = plt.figure(figsize=(12,8), dpi=200)\n",
    "\n",
    "    for plot_idx in range(n_plots):\n",
    "        ax = fig.add_subplot(1, n_plots, plot_idx+1, projection='3d')\n",
    "        ax.scatter3D(source_locations[:,0], source_locations[:,1], source_locations[:,2], s=20, c=source_estimates[time_idx])\n",
    "\n",
    "        ax.view_init(views[plot_idx][0], views[plot_idx][1])\n",
    "\n",
    "        ax.set_xticklabels([])\n",
    "        ax.set_yticklabels([])\n",
    "        ax.set_zticklabels([])\n",
    "\n",
    "    time = np.round(time_idx / 160, 3)\n",
    "    fig.suptitle(f'Time: {time} s.', fontsize=16, y=.75)\n",
    "\n",
    "    if save_fig:\n",
    "        plt.savefig(f'Source Estimates/source_estimate{time_idx}', bbox_inches='tight', transparent=True)\n",
    "    plt.close(fig)\n",
    "    #plt.tight_layout(pad=-10)\n",
    "    #plt.show()"
   ]
  },
  {
   "cell_type": "code",
   "execution_count": 141,
   "metadata": {},
   "outputs": [
    {
     "name": "stderr",
     "output_type": "stream",
     "text": [
      "100%|██████████| 1000/1000 [00:00<00:00, 679789.95it/s]\n"
     ]
    }
   ],
   "source": [
    "from tqdm import trange\n",
    "\n",
    "for i in trange(1000):\n",
    "    i = 1"
   ]
  },
  {
   "cell_type": "code",
   "execution_count": 146,
   "metadata": {},
   "outputs": [
    {
     "name": "stderr",
     "output_type": "stream",
     "text": [
      " 56%|█████▌    | 895/1600 [30:05<34:07,  2.90s/it]"
     ]
    }
   ],
   "source": [
    "for idx in trange(stc.data.shape[1]):\n",
    "    plot_sources(source_locations, stc.data.T, time_idx=idx, views = [(90,90), (0,0)], save_fig=True)\n"
   ]
  },
  {
   "cell_type": "code",
   "execution_count": null,
   "metadata": {},
   "outputs": [],
   "source": [
    "fig = plt.figure(figsize=(12,8))\n",
    "\n",
    "n_plots = 2\n",
    "views = [(0,0), (0,90)]\n",
    "\n",
    "colormap = [plt.get_cmap('tab20')(x) for x in np.linspace(0,1,20)]\n",
    "\n",
    "for plot_idx in range(n_plots):\n",
    "    \n",
    "    ax = fig.add_subplot(1, n_plots, plot_idx+1, projection='3d')\n",
    "    #ax.scatter3D(vertex_locations[:,0], vertex_locations[:,1], vertex_locations[:,2], s=.01)\n",
    "    for idx, label in enumerate(labels): \n",
    "        region_locations = vertex_locations[label.get_vertices_used()]\n",
    "        #ax.scatter3D(region_locations[:,0], region_locations[:,1], region_locations[:,2], s=.5, color=colormap[idx%20], label=label.name)\n",
    "        ax.scatter3D(region_locations[:,0], region_locations[:,1], region_locations[:,2], s=50)#, color='blue', label=label.name)\n",
    "\n",
    "    #ax.set_xlim(-.08, .07)\n",
    "    #ax.set_ylim(-.1, -.1)\n",
    "    #ax.set_zlim(-.01, -.1)\n",
    "\n",
    "    ax.view_init(views[plot_idx][0], views[plot_idx][1])\n",
    "\n",
    "plt.tight_layout()\n",
    "plt.show()"
   ]
  },
  {
   "cell_type": "code",
   "execution_count": null,
   "metadata": {},
   "outputs": [],
   "source": [
    "vertex_locations[labels[5].vertices].shape"
   ]
  },
  {
   "cell_type": "code",
   "execution_count": null,
   "metadata": {},
   "outputs": [],
   "source": [
    "fig, ax = plt.subplots(1, 1)\n",
    "im, _ = mne.viz.plot_topomap(L.T[9], raw.info, axes=ax, show=False)"
   ]
  },
  {
   "cell_type": "code",
   "execution_count": null,
   "metadata": {},
   "outputs": [],
   "source": [
    "raw.compute_psd().plot_topomap();"
   ]
  },
  {
   "cell_type": "code",
   "execution_count": null,
   "metadata": {},
   "outputs": [],
   "source": [
    "src = mne.setup_source_space(subject, spacing='oct6',\n",
    "                             subjects_dir=subjects_dir, add_dist=False, verbose=False)\n",
    "\n",
    "mne.viz.plot_bem(subject=subject, subjects_dir=subjects_dir,\n",
    "                 brain_surfaces='white', src=src, orientation='coronal')"
   ]
  },
  {
   "cell_type": "code",
   "execution_count": null,
   "metadata": {},
   "outputs": [],
   "source": [
    "mne.SourceEstimate(raw.get_data(), [0, 1], 0, 1)"
   ]
  },
  {
   "cell_type": "code",
   "execution_count": null,
   "metadata": {},
   "outputs": [],
   "source": []
  }
 ],
 "metadata": {
  "kernelspec": {
   "display_name": "XAI",
   "language": "python",
   "name": "python3"
  },
  "language_info": {
   "codemirror_mode": {
    "name": "ipython",
    "version": 3
   },
   "file_extension": ".py",
   "mimetype": "text/x-python",
   "name": "python",
   "nbconvert_exporter": "python",
   "pygments_lexer": "ipython3",
   "version": "3.10.9"
  },
  "orig_nbformat": 4,
  "vscode": {
   "interpreter": {
    "hash": "d7ed53d1409ec9cbf2220025c3ace4890d1fc714b68ef3f75ff2d9f4e7a96023"
   }
  }
 },
 "nbformat": 4,
 "nbformat_minor": 2
}
